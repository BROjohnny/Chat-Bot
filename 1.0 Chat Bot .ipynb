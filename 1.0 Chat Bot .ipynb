{
 "cells": [
  {
   "cell_type": "code",
   "execution_count": 12,
   "metadata": {},
   "outputs": [],
   "source": [
    "import json\n",
    "dataset=json.load(open('conversation.json'))\n",
    "\n",
    "conv=dataset['conversations']\n",
    "\n",
    "data=[]\n",
    "target=[]"
   ]
  },
  {
   "cell_type": "code",
   "execution_count": 13,
   "metadata": {},
   "outputs": [],
   "source": [
    "for i in range(len(conv)):\n",
    "    for j in range(len(conv[i])):\n",
    "        if j<len(conv[i])-1:\n",
    "            data.append(conv[i][j])\n",
    "            target.append(conv[i][j+1])"
   ]
  },
  {
   "cell_type": "code",
   "execution_count": 15,
   "metadata": {},
   "outputs": [
    {
     "name": "stderr",
     "output_type": "stream",
     "text": [
      "[nltk_data] Downloading package punkt to\n",
      "[nltk_data]     C:\\Users\\MasTeR\\AppData\\Roaming\\nltk_data...\n",
      "[nltk_data]   Package punkt is already up-to-date!\n"
     ]
    }
   ],
   "source": [
    "import nltk\n",
    "nltk.download('punkt')\n",
    "\n",
    "data_tok=[nltk.word_tokenize(dialog) for dialog in data]\n",
    "target_tok=[nltk.word_tokenize(dialog) for dialog in target]"
   ]
  },
  {
   "cell_type": "code",
   "execution_count": null,
   "metadata": {},
   "outputs": [
    {
     "name": "stderr",
     "output_type": "stream",
     "text": [
      "C:\\Users\\MasTeR\\Anaconda3\\lib\\site-packages\\smart_open\\ssh.py:34: UserWarning: paramiko missing, opening SSH/SCP/SFTP paths will be disabled.  `pip install paramiko` to suppress\n",
      "  warnings.warn('paramiko missing, opening SSH/SCP/SFTP paths will be disabled.  `pip install paramiko` to suppress')\n",
      "C:\\Users\\MasTeR\\Anaconda3\\lib\\site-packages\\gensim\\utils.py:1197: UserWarning: detected Windows; aliasing chunkize to chunkize_serial\n",
      "  warnings.warn(\"detected Windows; aliasing chunkize to chunkize_serial\")\n"
     ]
    }
   ],
   "source": [
    "from gensim import models\n",
    "\n",
    "model=models.Word2Vec.load('word2vec.bin')\n",
    "\n",
    "data_vec=[]\n",
    "target_vec=[]\n",
    "\n",
    "for sentence in data_tok:\n",
    "    print(sentence)"
   ]
  },
  {
   "cell_type": "code",
   "execution_count": 19,
   "metadata": {},
   "outputs": [],
   "source": [
    "from gensim.models import Word2Vec,KeyedVectors\n",
    "\n",
    "model=KeyedVectors.load_word2vec_format('GoogleNews-vectors-negative300.bin',binary=True,limit=100000)\n"
   ]
  },
  {
   "cell_type": "code",
   "execution_count": 21,
   "metadata": {},
   "outputs": [],
   "source": [
    "data_vec=[]\n",
    "target_vec=[]\n",
    "for sentence in data_tok:\n",
    "    sentence_vector=[model[word] for word in sentence if word in model.vocab]\n",
    "    data_vec.append(sentence_vector)\n",
    "    \n",
    "for sentence in target_tok:\n",
    "    sentence_vector=[model[word] for word in sentence if word in model.vocab]\n",
    "    target_vec.append(sentence_vector)"
   ]
  },
  {
   "cell_type": "code",
   "execution_count": 23,
   "metadata": {},
   "outputs": [],
   "source": [
    "import numpy as np\n",
    "\n",
    "sentence_end=np.ones((300,),dtype=np.float32)\n",
    "\n",
    "for vector in data_vec:\n",
    "    vector[14:]=[] #limitting the words in a sentence to 15\n",
    "    vector.append(sentence_end)\n",
    "\n",
    "for vector in data_vec:\n",
    "    if(len(vector)<15):\n",
    "        for i in range(15-len(vector)):\n",
    "            vector.append(sentence_end) #filling the empty words in a sentence\n",
    "\n",
    "\n",
    "for vector in target_vec:\n",
    "    vector[14:]=[] #limitting the words in a sentence to 15\n",
    "    vector.append(sentence_end)\n",
    "\n",
    "for vector in target_vec:\n",
    "    if(len(vector)<15):\n",
    "        for i in range(15-len(vector)):\n",
    "            vector.append(sentence_end) #filling the empty words in a sentence"
   ]
  },
  {
   "cell_type": "code",
   "execution_count": 3,
   "metadata": {},
   "outputs": [
    {
     "name": "stderr",
     "output_type": "stream",
     "text": [
      "Using TensorFlow backend.\n"
     ]
    },
    {
     "ename": "NameError",
     "evalue": "name 'np' is not defined",
     "output_type": "error",
     "traceback": [
      "\u001b[1;31m---------------------------------------------------------------------------\u001b[0m",
      "\u001b[1;31mNameError\u001b[0m                                 Traceback (most recent call last)",
      "\u001b[1;32m<ipython-input-3-629591397620>\u001b[0m in \u001b[0;36m<module>\u001b[1;34m\u001b[0m\n\u001b[0;32m      5\u001b[0m \u001b[1;32mfrom\u001b[0m \u001b[0msklearn\u001b[0m\u001b[1;33m.\u001b[0m\u001b[0mmodel_selection\u001b[0m \u001b[1;32mimport\u001b[0m \u001b[0mtrain_test_split\u001b[0m\u001b[1;33m\u001b[0m\u001b[1;33m\u001b[0m\u001b[0m\n\u001b[0;32m      6\u001b[0m \u001b[1;33m\u001b[0m\u001b[0m\n\u001b[1;32m----> 7\u001b[1;33m \u001b[0mdata_vec\u001b[0m\u001b[1;33m=\u001b[0m\u001b[0mnp\u001b[0m\u001b[1;33m.\u001b[0m\u001b[0marray\u001b[0m\u001b[1;33m(\u001b[0m\u001b[0mdata_vec\u001b[0m\u001b[1;33m)\u001b[0m\u001b[1;33m\u001b[0m\u001b[1;33m\u001b[0m\u001b[0m\n\u001b[0m\u001b[0;32m      8\u001b[0m \u001b[0mtarget_vec\u001b[0m\u001b[1;33m=\u001b[0m\u001b[0mnp\u001b[0m\u001b[1;33m.\u001b[0m\u001b[0marray\u001b[0m\u001b[1;33m(\u001b[0m\u001b[0mtarget_vec\u001b[0m\u001b[1;33m)\u001b[0m\u001b[1;33m\u001b[0m\u001b[1;33m\u001b[0m\u001b[0m\n\u001b[0;32m      9\u001b[0m \u001b[1;33m\u001b[0m\u001b[0m\n",
      "\u001b[1;31mNameError\u001b[0m: name 'np' is not defined"
     ]
    }
   ],
   "source": [
    "#implementing neural network\n",
    "\n",
    "from keras.models import Sequential\n",
    "from keras.layers.recurrent import LSTM,SimpleRNN #LSTM neuron type\n",
    "from sklearn.model_selection import train_test_split\n",
    "\n",
    "data_vec=np.array(data_vec)\n",
    "target_vec=np.array(target_vec)\n",
    "\n",
    "train_data,test_data,train_target,test_target=train_test_split(data_vec,target_vec,test_size=0.1)"
   ]
  },
  {
   "cell_type": "code",
   "execution_count": null,
   "metadata": {},
   "outputs": [],
   "source": [
    "#neuarl netowrk model\n",
    "\n",
    "model=Sequential()\n",
    "model.add(LSTM(output_dim=300,input_shape=(15,300),return_sequences=True,init='glorot_normal',inner_init='glorot_normal',activation='sigmoid'))\n",
    "model.add(LSTM(output_dim=300,input_shape=(15,300),return_sequences=True,init='glorot_normal',inner_init='glorot_normal',activation='sigmoid'))\n",
    "model.add(LSTM(output_dim=300,input_shape=(15,300),return_sequences=True,init='glorot_normal',inner_init='glorot_normal',activation='sigmoid'))\n",
    "model.add(LSTM(output_dim=300,input_shape=(15,300),return_sequences=True,init='glorot_normal',inner_init='glorot_normal',activation='sigmoid'))\n",
    "\n",
    "model.compile(loss='cosine_proximity',optimizer='adam',metrics=['accuracy'])\n",
    "\n",
    "#model.fit(train_data,train_target,epochs=500)"
   ]
  },
  {
   "cell_type": "code",
   "execution_count": 1,
   "metadata": {},
   "outputs": [
    {
     "ename": "NameError",
     "evalue": "name 'model' is not defined",
     "output_type": "error",
     "traceback": [
      "\u001b[1;31m---------------------------------------------------------------------------\u001b[0m",
      "\u001b[1;31mNameError\u001b[0m                                 Traceback (most recent call last)",
      "\u001b[1;32m<ipython-input-1-a1427564319a>\u001b[0m in \u001b[0;36m<module>\u001b[1;34m\u001b[0m\n\u001b[1;32m----> 1\u001b[1;33m \u001b[0mmodel\u001b[0m\u001b[1;33m.\u001b[0m\u001b[0mload_weights\u001b[0m\u001b[1;33m(\u001b[0m\u001b[1;34m'LSTM5000.h5'\u001b[0m\u001b[1;33m)\u001b[0m \u001b[1;31m#we get pre train weight an byers h5 file\u001b[0m\u001b[1;33m\u001b[0m\u001b[1;33m\u001b[0m\u001b[0m\n\u001b[0m",
      "\u001b[1;31mNameError\u001b[0m: name 'model' is not defined"
     ]
    }
   ],
   "source": [
    "model.load_weights('LSTM5000.h5') #we get pre train weight an byers h5 file"
   ]
  },
  {
   "cell_type": "code",
   "execution_count": null,
   "metadata": {},
   "outputs": [],
   "source": [
    "from gensim.models import Word2Vec,KeyedVectors\n",
    "\n",
    "model_w2v=KeyedVectors.load_word2vec_format('GoogleNews-vectors-negative300.bin',binary=True,limit=100000)\n"
   ]
  },
  {
   "cell_type": "code",
   "execution_count": null,
   "metadata": {},
   "outputs": [],
   "source": [
    "#creating front end\n",
    "import nltk\n",
    "import numpy as np\n",
    "\n",
    "sentence_end=np.ones((300),dtype=np.float32)\n",
    "while(True):\n",
    "    msg=input('Enter the msg:')\n",
    "    sentence_tok=nltk.word_tokenize(msg.lower()) #lower for alll simple letters\n",
    "    sentence_vec=[model_w2v[word] for word in sentence_tok if word in model_w2v.vocab]\n",
    "    \n",
    "    sentence_vec[14:]=[]\n",
    "    sentence_vec.append(sentence_end)\n",
    "    \n",
    "    if len(sentence_vec)<15:\n",
    "        for i in range(15-len(sentence_vec)):\n",
    "            sentence_vec.append(sentence_end)\n",
    "    \n",
    "    sentence_vec=np.array([sentence_vec])\n",
    "    \n",
    "    result=model.predict(sentence_vec)\n",
    "    out_msg=[model_w2v.most_similar([results[0][i]])[0][0] for i in range(15)]\n",
    "    out_msg=''.json(out_msg)\n",
    "    print(out_msg)"
   ]
  },
  {
   "cell_type": "code",
   "execution_count": null,
   "metadata": {},
   "outputs": [],
   "source": []
  }
 ],
 "metadata": {
  "kernelspec": {
   "display_name": "Python 3",
   "language": "python",
   "name": "python3"
  },
  "language_info": {
   "codemirror_mode": {
    "name": "ipython",
    "version": 3
   },
   "file_extension": ".py",
   "mimetype": "text/x-python",
   "name": "python",
   "nbconvert_exporter": "python",
   "pygments_lexer": "ipython3",
   "version": "3.7.1"
  }
 },
 "nbformat": 4,
 "nbformat_minor": 2
}
